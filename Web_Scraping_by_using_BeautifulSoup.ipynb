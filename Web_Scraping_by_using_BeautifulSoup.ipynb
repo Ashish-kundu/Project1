{
  "nbformat": 4,
  "nbformat_minor": 0,
  "metadata": {
    "colab": {
      "name": "Web Scraping by using BeautifulSoup.ipynb",
      "provenance": [],
      "mount_file_id": "1RRsVrAfbPU87D8q7usj9Jf9PekYcCZ-y",
      "authorship_tag": "ABX9TyN4Se8zdIPtEifE7EPgv3ch",
      "include_colab_link": true
    },
    "kernelspec": {
      "name": "python3",
      "display_name": "Python 3"
    },
    "language_info": {
      "name": "python"
    }
  },
  "cells": [
    {
      "cell_type": "markdown",
      "metadata": {
        "id": "view-in-github",
        "colab_type": "text"
      },
      "source": [
        "<a href=\"https://colab.research.google.com/github/Ashish-kundu/Project1/blob/main/Web_Scraping_by_using_BeautifulSoup.ipynb\" target=\"_parent\"><img src=\"https://colab.research.google.com/assets/colab-badge.svg\" alt=\"Open In Colab\"/></a>"
      ]
    },
    {
      "cell_type": "code",
      "execution_count": 1,
      "metadata": {
        "id": "zGho7An7XdsK"
      },
      "outputs": [],
      "source": [
        "import requests\n",
        "from bs4 import BeautifulSoup as bs\n",
        "import urllib.request\n",
        "import pandas as pd"
      ]
    },
    {
      "cell_type": "code",
      "source": [
        "# pg_no=int(input(\"Enter the page number :\"))\n",
        "# for i in range(1,pg_no+1):\n",
        "url=\"https://www.flipkart.com/search?q=laptop+ssd+price&sid=6bo%2Cb5g&as=on&as-show=on&otracker=AS_QueryStore_OrganicAutoSuggest_3_20_na_pm_na&otracker1=AS_QueryStore_OrganicAutoSuggest_3_20_na_pm_na&as-pos=3&as-type=HISTORY&suggestionId=laptop+ssd+price%7CLaptops&requestId=ad4a4ef7-7f89-4bd6-9332-be45ed78a278&page=\"\n",
        "html_content=requests.get(url)\n",
        "data=html_content.content\n"
      ],
      "metadata": {
        "id": "IFwPG3AUXwiB"
      },
      "execution_count": 4,
      "outputs": []
    },
    {
      "cell_type": "code",
      "source": [
        "data_file=bs(data,'html.parser')\n",
        "# data_file.prettify"
      ],
      "metadata": {
        "id": "JWIfc5F6X4L_"
      },
      "execution_count": 5,
      "outputs": []
    },
    {
      "cell_type": "code",
      "source": [
        "data_file.titel"
      ],
      "metadata": {
        "id": "Lr1WM8hFX7f9"
      },
      "execution_count": 8,
      "outputs": []
    },
    {
      "cell_type": "code",
      "source": [
        "laptop_name=data_file.find_all(\"div\",class_='_4rR01T')\n",
        "list_name=[]\n",
        "for name in laptop_name:\n",
        "    a=name.get_text()\n",
        "    list_name.append(a)\n",
        "list_name \n",
        "len(list_name)  "
      ],
      "metadata": {
        "colab": {
          "base_uri": "https://localhost:8080/"
        },
        "id": "V6f5c0-TYAE-",
        "outputId": "07e5f83e-0ffb-40e2-b661-9a555596a28e"
      },
      "execution_count": 9,
      "outputs": [
        {
          "output_type": "execute_result",
          "data": {
            "text/plain": [
              "24"
            ]
          },
          "metadata": {},
          "execution_count": 9
        }
      ]
    },
    {
      "cell_type": "code",
      "source": [
        "laptop_price=data_file.find_all(\"div\",class_='_30jeq3 _1_WHN1')\n",
        "list_price=[]\n",
        "for price in laptop_price:\n",
        "  b=price.get_text()\n",
        "  list_price.append(b)\n",
        "list_price  \n",
        "len(list_price)"
      ],
      "metadata": {
        "colab": {
          "base_uri": "https://localhost:8080/"
        },
        "id": "0JGPxQVXeOzl",
        "outputId": "789df653-be43-4697-a08b-f329bf4d9103"
      },
      "execution_count": 10,
      "outputs": [
        {
          "output_type": "execute_result",
          "data": {
            "text/plain": [
              "24"
            ]
          },
          "metadata": {},
          "execution_count": 10
        }
      ]
    },
    {
      "cell_type": "code",
      "source": [
        "# laptop_fetures=data_file.find_all(\"li\",class_='rgWa7D(text)')\n",
        "# list_fetures=[]\n",
        "# for fetures in laptop_fetures:\n",
        "#   c=fetures.get_text()\n",
        "#   list_fetures.append(c)\n",
        "# list_fetures  \n",
        "# len(list_fetures)"
      ],
      "metadata": {
        "colab": {
          "base_uri": "https://localhost:8080/"
        },
        "id": "C1GIa7Upi4lF",
        "outputId": "16f4afbc-70ea-424a-e2d2-265b1d7a1e0d"
      },
      "execution_count": null,
      "outputs": [
        {
          "output_type": "execute_result",
          "data": {
            "text/plain": [
              "0"
            ]
          },
          "metadata": {},
          "execution_count": 41
        }
      ]
    },
    {
      "cell_type": "code",
      "source": [
        "laptop_rating= data_file.find_all(\"div\",class_='_3LWZlK')\n",
        "list_rating=[]\n",
        "for rating in laptop_rating:\n",
        "  d=rating.get_text()\n",
        "  list_rating.append(d)\n",
        "list_rating\n",
        "len(list_rating)"
      ],
      "metadata": {
        "colab": {
          "base_uri": "https://localhost:8080/"
        },
        "id": "vj_rbl16kIJP",
        "outputId": "b3dca2ed-a1ff-46e6-f843-024b06296656"
      },
      "execution_count": 11,
      "outputs": [
        {
          "output_type": "execute_result",
          "data": {
            "text/plain": [
              "36"
            ]
          },
          "metadata": {},
          "execution_count": 11
        }
      ]
    },
    {
      "cell_type": "code",
      "source": [
        "laptop_pic=data_file.find_all(\"img\",class_='_396cs4 _3exPp9')\n",
        "# print(laptop_pic)\n",
        "list_pic=[]\n",
        "for pic in laptop_pic:\n",
        "    img_path=pic.get('src')\n",
        "    list_pic.append(img_path)\n",
        "list_pic\n",
        "# # len(list_pic)"
      ],
      "metadata": {
        "colab": {
          "base_uri": "https://localhost:8080/"
        },
        "id": "BXzNhBle4Evi",
        "outputId": "87ee6743-d2d1-43f7-e45c-857a1f528c56"
      },
      "execution_count": 12,
      "outputs": [
        {
          "output_type": "execute_result",
          "data": {
            "text/plain": [
              "['https://rukminim1.flixcart.com/image/312/312/keaaavk0/computer/x/m/y/lenovo-na-laptop-original-imafuzt8r5jqppfn.jpeg?q=70',\n",
              " 'https://rukminim1.flixcart.com/image/312/312/l3rmzrk0/computer/s/z/r/-original-imagetgzg4pgszmt.jpeg?q=70',\n",
              " 'https://rukminim1.flixcart.com/image/312/312/kp2y2kw0/computer/y/0/c/na-thin-and-light-laptop-asus-original-imag3ebnzawky4kn.jpeg?q=70',\n",
              " 'https://rukminim1.flixcart.com/image/312/312/l2m78280/computer/z/e/f/-original-imagdx9szs8xz2rk.jpeg?q=70',\n",
              " 'https://rukminim1.flixcart.com/image/312/312/l1dwknk0/computer/e/u/0/inspiron-3525-notebook-dell-original-imagcyrebyny33kd.jpeg?q=70',\n",
              " 'https://rukminim1.flixcart.com/image/312/312/kt8zb0w0/computer/n/m/v/inspiron-3511-thin-and-light-laptop-dell-original-imag6n5kbmfcgxk6.jpeg?q=70',\n",
              " 'https://rukminim1.flixcart.com/image/312/312/l3rmzrk0/computer/z/2/c/-original-imagetjyhhtrtkdg.jpeg?q=70',\n",
              " 'https://rukminim1.flixcart.com/image/312/312/kp2y2kw0/computer/y/0/c/na-thin-and-light-laptop-asus-original-imag3ebnzawky4kn.jpeg?q=70',\n",
              " 'https://rukminim1.flixcart.com/image/312/312/kbqu4cw0/computer/q/x/r/hp-original-imaftyzachgrav8f.jpeg?q=70',\n",
              " 'https://rukminim1.flixcart.com/image/312/312/xif0q/computer/z/a/q/-original-imagh3jvfcznrvcs.jpeg?q=70',\n",
              " 'https://rukminim1.flixcart.com/image/312/312/ksyz8280/computer/f/9/9/x515ea-ej302ts-thin-and-light-laptop-asus-original-imag6fc9kxzc6rrh.jpeg?q=70',\n",
              " 'https://rukminim1.flixcart.com/image/312/312/l15bxjk0/computer/8/4/i/-original-imagcsyu53jxgtqe.jpeg?q=70',\n",
              " 'https://rukminim1.flixcart.com/image/312/312/keaaavk0/computer/x/m/y/lenovo-na-laptop-original-imafuzt8r5jqppfn.jpeg?q=70',\n",
              " 'https://rukminim1.flixcart.com/image/312/312/l1mh7rk0/computer/w/5/m/vostro-5620-notebook-dell-original-imagd5kxzjhyw9hx.jpeg?q=70',\n",
              " 'https://rukminim1.flixcart.com/image/312/312/keaaavk0/computer/x/m/y/lenovo-na-laptop-original-imafuzt8r5jqppfn.jpeg?q=70',\n",
              " 'https://rukminim1.flixcart.com/image/312/312/kp2y2kw0/computer/y/0/c/na-thin-and-light-laptop-asus-original-imag3ebnzawky4kn.jpeg?q=70',\n",
              " 'https://rukminim1.flixcart.com/image/312/312/l45xea80/computer/v/c/x/inspiron-3511-thin-and-light-laptop-dell-original-imagf4n2y3uk8jcz.jpeg?q=70',\n",
              " 'https://rukminim1.flixcart.com/image/312/312/l5h2xe80/computer/h/i/p/14s-dy5005tu-thin-and-light-laptop-hp-original-imagg4rc7n75zqkp.jpeg?q=70',\n",
              " 'https://rukminim1.flixcart.com/image/312/312/l3rmzrk0/computer/z/2/c/-original-imagetjyhhtrtkdg.jpeg?q=70',\n",
              " 'https://rukminim1.flixcart.com/image/312/312/kzrbiq80/computer/v/d/d/15s-fq2626tu-thin-and-light-laptop-hp-original-imagbpb2sztfprgz.jpeg?q=70',\n",
              " 'https://rukminim1.flixcart.com/image/312/312/kyt0ya80/computer/i/d/p/na-thin-and-light-laptop-apple-original-imagaygvtvf6cx8h.jpeg?q=70',\n",
              " 'https://rukminim1.flixcart.com/image/312/312/kp2y2kw0/computer/y/0/c/na-thin-and-light-laptop-asus-original-imag3ebnzawky4kn.jpeg?q=70',\n",
              " 'https://rukminim1.flixcart.com/image/312/312/l4n2oi80/computer/q/u/u/-original-imagfhpzry32pdyg.jpeg?q=70',\n",
              " 'https://rukminim1.flixcart.com/image/312/312/l2m78280/computer/z/e/f/-original-imagdx9szs8xz2rk.jpeg?q=70']"
            ]
          },
          "metadata": {},
          "execution_count": 12
        }
      ]
    },
    {
      "cell_type": "code",
      "source": [
        "laptop_link=data_file.find_all(\"div\",class_='_1AtVbE col-12-12')\n",
        "list_link=[]\n",
        "for links in laptop_link:\n",
        "  for i in links.find_all('a',class_='_1fQZEK'):\n",
        "    list_link.append(i.get('href'))\n",
        "    "
      ],
      "metadata": {
        "id": "Ndes6Y73aKSr"
      },
      "execution_count": 13,
      "outputs": []
    },
    {
      "cell_type": "code",
      "source": [
        "# list_link"
      ],
      "metadata": {
        "id": "BYcUFZhtqx7X"
      },
      "execution_count": 14,
      "outputs": []
    },
    {
      "cell_type": "code",
      "source": [
        "url_list=[]\n",
        "base_url = 'https://www.flipkart.com'\n",
        "for i in list_link:\n",
        "  url_list.append(base_url+str(i))\n",
        "  \n"
      ],
      "metadata": {
        "id": "45pjXtzqdRqo"
      },
      "execution_count": 15,
      "outputs": []
    },
    {
      "cell_type": "code",
      "source": [
        "for i in url_list:\n",
        "  print(i)"
      ],
      "metadata": {
        "id": "6wfvCeJQdxd9",
        "outputId": "733e65f4-83fa-4988-8cfd-2e49b4855e40",
        "colab": {
          "base_uri": "https://localhost:8080/"
        }
      },
      "execution_count": 16,
      "outputs": [
        {
          "output_type": "stream",
          "name": "stdout",
          "text": [
            "https://www.flipkart.com/lenovo-ideapad-3-ryzen-5-hexa-core-5500u-8-gb-512-gb-ssd-windows-11-home-15alc6-thin-light-laptop/p/itm790def6ef6b6f?pid=COMG9VHHF6HVJPP9&lid=LSTCOMG9VHHF6HVJPP9U213LU&marketplace=FLIPKART&q=laptop+ssd+price&store=6bo%2Fb5g&srno=s_1_1&otracker=AS_QueryStore_OrganicAutoSuggest_3_20_na_pm_na&otracker1=AS_QueryStore_OrganicAutoSuggest_3_20_na_pm_na&fm=organic&iid=1b46c0cc-79ae-4f1f-a600-9b33234a97db.COMG9VHHF6HVJPP9.SEARCH&ppt=None&ppn=None&ssid=fz4d7258xc0000001662219228759&qH=5a3fefb76239b8fa\n",
            "https://www.flipkart.com/asus-tuf-gaming-f15-core-i5-10th-gen-8-gb-512-gb-ssd-windows-11-home-4-graphics-nvidia-geforce-gtx-1650-144-hz-fx506lhb-hn358w-laptop/p/itm4d930ab779cbd?pid=COMGF9Z7JYCFBKAP&lid=LSTCOMGF9Z7JYCFBKAPXYET0O&marketplace=FLIPKART&q=laptop+ssd+price&store=6bo%2Fb5g&srno=s_1_2&otracker=AS_QueryStore_OrganicAutoSuggest_3_20_na_pm_na&otracker1=AS_QueryStore_OrganicAutoSuggest_3_20_na_pm_na&fm=organic&iid=1b46c0cc-79ae-4f1f-a600-9b33234a97db.COMGF9Z7JYCFBKAP.SEARCH&ppt=None&ppn=None&ssid=fz4d7258xc0000001662219228759&qH=5a3fefb76239b8fa\n",
            "https://www.flipkart.com/asus-vivobook-15-2022-core-i3-10th-gen-8-gb-512-gb-ssd-windows-11-home-x515ja-bq322ws-thin-light-laptop/p/itm6bb4edeb57b75?pid=COMGB6DZBWCDEXXA&lid=LSTCOMGB6DZBWCDEXXAMHCEBC&marketplace=FLIPKART&q=laptop+ssd+price&store=6bo%2Fb5g&srno=s_1_3&otracker=AS_QueryStore_OrganicAutoSuggest_3_20_na_pm_na&otracker1=AS_QueryStore_OrganicAutoSuggest_3_20_na_pm_na&fm=organic&iid=1b46c0cc-79ae-4f1f-a600-9b33234a97db.COMGB6DZBWCDEXXA.SEARCH&ppt=None&ppn=None&ssid=fz4d7258xc0000001662219228759&qH=5a3fefb76239b8fa\n",
            "https://www.flipkart.com/asus-vivobook-14-2022-ryzen-5-quad-core-3500u-8-gb-512-gb-ssd-windows-11-home-m415da-eb712ws-thin-light-laptop/p/itm291ea229a80a6?pid=COMGCG2GZKRCJUBZ&lid=LSTCOMGCG2GZKRCJUBZ1XPKVP&marketplace=FLIPKART&q=laptop+ssd+price&store=6bo%2Fb5g&srno=s_1_4&otracker=AS_QueryStore_OrganicAutoSuggest_3_20_na_pm_na&otracker1=AS_QueryStore_OrganicAutoSuggest_3_20_na_pm_na&fm=organic&iid=1b46c0cc-79ae-4f1f-a600-9b33234a97db.COMGCG2GZKRCJUBZ.SEARCH&ppt=None&ppn=None&ssid=fz4d7258xc0000001662219228759&qH=5a3fefb76239b8fa\n",
            "https://www.flipkart.com/dell-inspiron-athlon-dual-core-3050u-8-gb-256-gb-ssd-windows-11-home-3525-notebook/p/itm96a6101fa53ff?pid=COMGCYF9EZKKPEWD&lid=LSTCOMGCYF9EZKKPEWDXSSFWJ&marketplace=FLIPKART&q=laptop+ssd+price&store=6bo%2Fb5g&srno=s_1_5&otracker=AS_QueryStore_OrganicAutoSuggest_3_20_na_pm_na&otracker1=AS_QueryStore_OrganicAutoSuggest_3_20_na_pm_na&fm=organic&iid=1b46c0cc-79ae-4f1f-a600-9b33234a97db.COMGCYF9EZKKPEWD.SEARCH&ppt=None&ppn=None&ssid=fz4d7258xc0000001662219228759&qH=5a3fefb76239b8fa\n",
            "https://www.flipkart.com/dell-inspiron-core-i3-11th-gen-8-gb-1-tb-hdd-256-gb-ssd-windows-11-home-3511-inspiron-3000-thin-light-laptop/p/itmb93d2a1e224d0?pid=COMGAD2B4QMZTWKB&lid=LSTCOMGAD2B4QMZTWKBLSB4SW&marketplace=FLIPKART&q=laptop+ssd+price&store=6bo%2Fb5g&srno=s_1_6&otracker=AS_QueryStore_OrganicAutoSuggest_3_20_na_pm_na&otracker1=AS_QueryStore_OrganicAutoSuggest_3_20_na_pm_na&fm=organic&iid=1b46c0cc-79ae-4f1f-a600-9b33234a97db.COMGAD2B4QMZTWKB.SEARCH&ppt=None&ppn=None&ssid=fz4d7258xc0000001662219228759&qH=5a3fefb76239b8fa\n",
            "https://www.flipkart.com/asus-tuf-gaming-a17-ryzen-7-octa-core-4800h-16-gb-512-gb-ssd-windows-10-home-4-graphics-nvidia-geforce-rtx-3050-144-hz-fa766ic-hx005t-fa766ic-hx005w-laptop/p/itm05769934382c7?pid=COMG5QHNU3DSZGEY&lid=LSTCOMG5QHNU3DSZGEYG2ALG4&marketplace=FLIPKART&q=laptop+ssd+price&store=6bo%2Fb5g&srno=s_1_7&otracker=AS_QueryStore_OrganicAutoSuggest_3_20_na_pm_na&otracker1=AS_QueryStore_OrganicAutoSuggest_3_20_na_pm_na&fm=organic&iid=1b46c0cc-79ae-4f1f-a600-9b33234a97db.COMG5QHNU3DSZGEY.SEARCH&ppt=None&ppn=None&ssid=fz4d7258xc0000001662219228759&qH=5a3fefb76239b8fa\n",
            "https://www.flipkart.com/asus-ryzen-3-dual-core-3250u-3rd-gen-8-gb-256-gb-ssd-windows-10-home-m515da-bq322ts-thin-light-laptop/p/itm00d893dc25af4?pid=COMG6HNASNQG6XC7&lid=LSTCOMG6HNASNQG6XC71HHMV5&marketplace=FLIPKART&q=laptop+ssd+price&store=6bo%2Fb5g&srno=s_1_8&otracker=AS_QueryStore_OrganicAutoSuggest_3_20_na_pm_na&otracker1=AS_QueryStore_OrganicAutoSuggest_3_20_na_pm_na&fm=organic&iid=1b46c0cc-79ae-4f1f-a600-9b33234a97db.COMG6HNASNQG6XC7.SEARCH&ppt=None&ppn=None&ssid=fz4d7258xc0000001662219228759&qH=5a3fefb76239b8fa\n",
            "https://www.flipkart.com/hp-pavilion-ryzen-5-hexa-core-5600h-8-gb-512-gb-ssd-windows-10-4-graphics-nvidia-geforce-gtx-1650-144-hz-15-ec2004ax-gaming-laptop/p/itm98c94bbf9bc20?pid=COMG5GZXPWMGTNWS&lid=LSTCOMG5GZXPWMGTNWSQE9WVW&marketplace=FLIPKART&q=laptop+ssd+price&store=6bo%2Fb5g&srno=s_1_9&otracker=AS_QueryStore_OrganicAutoSuggest_3_20_na_pm_na&otracker1=AS_QueryStore_OrganicAutoSuggest_3_20_na_pm_na&fm=organic&iid=1b46c0cc-79ae-4f1f-a600-9b33234a97db.COMG5GZXPWMGTNWS.SEARCH&ppt=None&ppn=None&ssid=fz4d7258xc0000001662219228759&qH=5a3fefb76239b8fa\n",
            "https://www.flipkart.com/msi-modern-14-ryzen-5-hexa-core-5500u-8-gb-512-gb-ssd-windows-11-home-b5m-242in-thin-light-laptop/p/itm2dadd2a6b6e61?pid=COMGGHMQUHQ6TYBC&lid=LSTCOMGGHMQUHQ6TYBCBBV3KJ&marketplace=FLIPKART&q=laptop+ssd+price&store=6bo%2Fb5g&srno=s_1_10&otracker=AS_QueryStore_OrganicAutoSuggest_3_20_na_pm_na&otracker1=AS_QueryStore_OrganicAutoSuggest_3_20_na_pm_na&fm=organic&iid=1b46c0cc-79ae-4f1f-a600-9b33234a97db.COMGGHMQUHQ6TYBC.SEARCH&ppt=None&ppn=None&ssid=fz4d7258xc0000001662219228759&qH=5a3fefb76239b8fa\n",
            "https://www.flipkart.com/asus-vivobook-15-core-i3-10th-gen-8-gb-256-gb-ssd-windows-11-home-x515ja-ej312ws-thin-light-laptop/p/itm28e74f58362d8?pid=COMGFW4JEUBRKZGQ&lid=LSTCOMGFW4JEUBRKZGQAISZQX&marketplace=FLIPKART&q=laptop+ssd+price&store=6bo%2Fb5g&srno=s_1_11&otracker=AS_QueryStore_OrganicAutoSuggest_3_20_na_pm_na&otracker1=AS_QueryStore_OrganicAutoSuggest_3_20_na_pm_na&fm=organic&iid=1b46c0cc-79ae-4f1f-a600-9b33234a97db.COMGFW4JEUBRKZGQ.SEARCH&ppt=None&ppn=None&ssid=fz4d7258xc0000001662219228759&qH=5a3fefb76239b8fa\n",
            "https://www.flipkart.com/asus-vivobook-k15-oled-ryzen-7-octa-core-5700u-16-gb-512-gb-ssd-windows-11-home-km513ua-l712ws-thin-light-laptop/p/itmd737de314823c?pid=COMGB6DZQJHHSESY&lid=LSTCOMGB6DZQJHHSESYC1WZQS&marketplace=FLIPKART&q=laptop+ssd+price&store=6bo%2Fb5g&srno=s_1_12&otracker=AS_QueryStore_OrganicAutoSuggest_3_20_na_pm_na&otracker1=AS_QueryStore_OrganicAutoSuggest_3_20_na_pm_na&fm=organic&iid=1b46c0cc-79ae-4f1f-a600-9b33234a97db.COMGB6DZQJHHSESY.SEARCH&ppt=None&ppn=None&ssid=fz4d7258xc0000001662219228759&qH=5a3fefb76239b8fa\n",
            "https://www.flipkart.com/lenovo-ideapad-3-celeron-dual-core-8-gb-256-gb-ssd-windows-11-home-15igl05-laptop/p/itmc49d0f3a10c57?pid=COMGDMXVJJB2HGMY&lid=LSTCOMGDMXVJJB2HGMYSPU3CT&marketplace=FLIPKART&q=laptop+ssd+price&store=6bo%2Fb5g&srno=s_1_13&otracker=AS_QueryStore_OrganicAutoSuggest_3_20_na_pm_na&otracker1=AS_QueryStore_OrganicAutoSuggest_3_20_na_pm_na&fm=organic&iid=1b46c0cc-79ae-4f1f-a600-9b33234a97db.COMGDMXVJJB2HGMY.SEARCH&ppt=None&ppn=None&ssid=fz4d7258xc0000001662219228759&qH=5a3fefb76239b8fa\n",
            "https://www.flipkart.com/dell-vostro-core-i5-12th-gen-16-gb-512-gb-ssd-windows-11-home-5620-notebook/p/itm894c081075d5d?pid=COMGD436JH6ERZHJ&lid=LSTCOMGD436JH6ERZHJUD2CYE&marketplace=FLIPKART&q=laptop+ssd+price&store=6bo%2Fb5g&srno=s_1_14&otracker=AS_QueryStore_OrganicAutoSuggest_3_20_na_pm_na&otracker1=AS_QueryStore_OrganicAutoSuggest_3_20_na_pm_na&fm=organic&iid=1b46c0cc-79ae-4f1f-a600-9b33234a97db.COMGD436JH6ERZHJ.SEARCH&ppt=None&ppn=None&ssid=fz4d7258xc0000001662219228759&qH=5a3fefb76239b8fa\n",
            "https://www.flipkart.com/lenovo-core-i3-10th-gen-8-gb-512-gb-ssd-windows-11-home-15iml05-thin-light-laptop/p/itmab4180a00a50b?pid=COMG9VHHUTKFZFMU&lid=LSTCOMG9VHHUTKFZFMUR7XP3V&marketplace=FLIPKART&q=laptop+ssd+price&store=6bo%2Fb5g&srno=s_1_15&otracker=AS_QueryStore_OrganicAutoSuggest_3_20_na_pm_na&otracker1=AS_QueryStore_OrganicAutoSuggest_3_20_na_pm_na&fm=organic&iid=1b46c0cc-79ae-4f1f-a600-9b33234a97db.COMG9VHHUTKFZFMU.SEARCH&ppt=None&ppn=None&ssid=fz4d7258xc0000001662219228759&qH=5a3fefb76239b8fa\n",
            "https://www.flipkart.com/asus-vivobook-15-2022-core-i5-10th-gen-8-gb-512-gb-ssd-windows-11-home-x515ja-ej562ws-x515ja-ej592ws-thin-light-laptop/p/itm2e65b7fbcb497?pid=COMG87FF2SD7ZHK6&lid=LSTCOMG87FF2SD7ZHK6CCCXCI&marketplace=FLIPKART&q=laptop+ssd+price&store=6bo%2Fb5g&srno=s_1_16&otracker=AS_QueryStore_OrganicAutoSuggest_3_20_na_pm_na&otracker1=AS_QueryStore_OrganicAutoSuggest_3_20_na_pm_na&fm=organic&iid=1b46c0cc-79ae-4f1f-a600-9b33234a97db.COMG87FF2SD7ZHK6.SEARCH&ppt=None&ppn=None&ssid=fz4d7258xc0000001662219228759&qH=5a3fefb76239b8fa\n",
            "https://www.flipkart.com/dell-inspiron-core-i5-11th-gen-8-gb-512-gb-ssd-windows-11-home-3511-thin-light-laptop/p/itmfc00129bfb0c7?pid=COMGF478XMB8URCH&lid=LSTCOMGF478XMB8URCHJHKSDC&marketplace=FLIPKART&q=laptop+ssd+price&store=6bo%2Fb5g&srno=s_1_17&otracker=AS_QueryStore_OrganicAutoSuggest_3_20_na_pm_na&otracker1=AS_QueryStore_OrganicAutoSuggest_3_20_na_pm_na&fm=organic&iid=1b46c0cc-79ae-4f1f-a600-9b33234a97db.COMGF478XMB8URCH.SEARCH&ppt=None&ppn=None&ssid=fz4d7258xc0000001662219228759&qH=5a3fefb76239b8fa\n",
            "https://www.flipkart.com/hp-core-i3-11th-gen-8-gb-256-gb-ssd-windows-11-home-14s-dy2507tu-thin-light-laptop/p/itm183e95bd1f23b?pid=COMGG63H9BFFUYVY&lid=LSTCOMGG63H9BFFUYVYQPFKJJ&marketplace=FLIPKART&q=laptop+ssd+price&store=6bo%2Fb5g&srno=s_1_18&otracker=AS_QueryStore_OrganicAutoSuggest_3_20_na_pm_na&otracker1=AS_QueryStore_OrganicAutoSuggest_3_20_na_pm_na&fm=organic&iid=1b46c0cc-79ae-4f1f-a600-9b33234a97db.COMGG63H9BFFUYVY.SEARCH&ppt=None&ppn=None&ssid=fz4d7258xc0000001662219228759&qH=5a3fefb76239b8fa\n",
            "https://www.flipkart.com/asus-tuf-gaming-a17-90whr-battery-ryzen-5-hexa-core-4600h-8-gb-512-gb-ssd-windows-11-home-4-graphics-nvidia-geforce-gtx-1650-144-hz-fa706ihrb-hx041w-laptop/p/itm210385fd14c7a?pid=COMGFYQZZFRKBNWV&lid=LSTCOMGFYQZZFRKBNWVYP70VR&marketplace=FLIPKART&q=laptop+ssd+price&store=6bo%2Fb5g&srno=s_1_19&otracker=AS_QueryStore_OrganicAutoSuggest_3_20_na_pm_na&otracker1=AS_QueryStore_OrganicAutoSuggest_3_20_na_pm_na&fm=organic&iid=1b46c0cc-79ae-4f1f-a600-9b33234a97db.COMGFYQZZFRKBNWV.SEARCH&ppt=None&ppn=None&ssid=fz4d7258xc0000001662219228759&qH=5a3fefb76239b8fa\n",
            "https://www.flipkart.com/hp-core-i5-11th-gen-8-gb-512-gb-ssd-windows-11-home-15s-fq4022tu-thin-light-laptop/p/itm884a0e7eddc83?pid=COMGBH9JY38MYJAZ&lid=LSTCOMGBH9JY38MYJAZU1WJIK&marketplace=FLIPKART&q=laptop+ssd+price&store=6bo%2Fb5g&srno=s_1_20&otracker=AS_QueryStore_OrganicAutoSuggest_3_20_na_pm_na&otracker1=AS_QueryStore_OrganicAutoSuggest_3_20_na_pm_na&fm=organic&iid=1b46c0cc-79ae-4f1f-a600-9b33234a97db.COMGBH9JY38MYJAZ.SEARCH&ppt=None&ppn=None&ssid=fz4d7258xc0000001662219228759&qH=5a3fefb76239b8fa\n",
            "https://www.flipkart.com/apple-macbook-air-m1-16-gb-256-gb-ssd-mac-os-big-sur-z124j005kd/p/itm5feb8febbc5d9?pid=COMG9UD4UN2ZZGDM&lid=LSTCOMG9UD4UN2ZZGDMXEQ7OR&marketplace=FLIPKART&q=laptop+ssd+price&store=6bo%2Fb5g&srno=s_1_21&otracker=AS_QueryStore_OrganicAutoSuggest_3_20_na_pm_na&otracker1=AS_QueryStore_OrganicAutoSuggest_3_20_na_pm_na&fm=organic&iid=1b46c0cc-79ae-4f1f-a600-9b33234a97db.COMG9UD4UN2ZZGDM.SEARCH&ppt=None&ppn=None&ssid=fz4d7258xc0000001662219228759&qH=5a3fefb76239b8fa\n",
            "https://www.flipkart.com/asus-vivobook-15-2022-core-i3-10th-gen-8-gb-512-gb-ssd-windows-11-home-x515ja-ej362ws-x515ja-ej392ws-thin-light-laptop/p/itmd7cb34d230872?pid=COMG87FFPEDAAGXW&lid=LSTCOMG87FFPEDAAGXWHLSICD&marketplace=FLIPKART&q=laptop+ssd+price&store=6bo%2Fb5g&srno=s_1_22&otracker=AS_QueryStore_OrganicAutoSuggest_3_20_na_pm_na&otracker1=AS_QueryStore_OrganicAutoSuggest_3_20_na_pm_na&fm=organic&iid=1b46c0cc-79ae-4f1f-a600-9b33234a97db.COMG87FFPEDAAGXW.SEARCH&ppt=None&ppn=None&ssid=fz4d7258xc0000001662219228759&qH=5a3fefb76239b8fa\n",
            "https://www.flipkart.com/asus-tuf-dash-f15-2022-core-i5-12th-gen-8-gb-512-gb-ssd-windows-11-home-4-graphics-nvidia-geforce-rtx-3050-144-hz-fx517zc-hn035ws-gaming-laptop/p/itme5b388b99b91b?pid=COMGFYQZBR2MS4B9&lid=LSTCOMGFYQZBR2MS4B9OQOW5D&marketplace=FLIPKART&q=laptop+ssd+price&store=6bo%2Fb5g&srno=s_1_23&otracker=AS_QueryStore_OrganicAutoSuggest_3_20_na_pm_na&otracker1=AS_QueryStore_OrganicAutoSuggest_3_20_na_pm_na&fm=organic&iid=1b46c0cc-79ae-4f1f-a600-9b33234a97db.COMGFYQZBR2MS4B9.SEARCH&ppt=None&ppn=None&ssid=fz4d7258xc0000001662219228759&qH=5a3fefb76239b8fa\n",
            "https://www.flipkart.com/asus-vivobook-14-2021-celeron-dual-core-4-gb-256-gb-ssd-windows-11-home-x415ma-bv011w-thin-light-laptop/p/itm8f9bebd99f5c0?pid=COMGBH774UHWUFQF&lid=LSTCOMGBH774UHWUFQFHH2XKA&marketplace=FLIPKART&q=laptop+ssd+price&store=6bo%2Fb5g&srno=s_1_24&otracker=AS_QueryStore_OrganicAutoSuggest_3_20_na_pm_na&otracker1=AS_QueryStore_OrganicAutoSuggest_3_20_na_pm_na&fm=organic&iid=1b46c0cc-79ae-4f1f-a600-9b33234a97db.COMGBH774UHWUFQF.SEARCH&ppt=None&ppn=None&ssid=fz4d7258xc0000001662219228759&qH=5a3fefb76239b8fa\n"
          ]
        }
      ]
    },
    {
      "cell_type": "code",
      "source": [
        "dict={\n",
        "    'Laptop Name':list_name[0:24],\n",
        "    # 'Latop Fetures':list_fetures[0:24],\n",
        "    'Price':list_price[0:24],\n",
        "    'Rating':list_rating[0:24],\n",
        "    'Picture': list_pic[0:24],\n",
        "    'Link': url_list[0:24]\n",
        "}"
      ],
      "metadata": {
        "id": "IbAbRxJ0lP9q"
      },
      "execution_count": 17,
      "outputs": []
    },
    {
      "cell_type": "code",
      "source": [
        "df=pd.DataFrame(dict)\n",
        "df.head(10)"
      ],
      "metadata": {
        "colab": {
          "base_uri": "https://localhost:8080/",
          "height": 1626
        },
        "id": "Sb9ZskdFmGHv",
        "outputId": "2c32ee70-9ed8-444a-89ae-3b93acc90977"
      },
      "execution_count": 18,
      "outputs": [
        {
          "output_type": "execute_result",
          "data": {
            "text/plain": [
              "                                         Laptop Name    Price Rating  \\\n",
              "0  Lenovo IdeaPad 3 Ryzen 5 Hexa Core 5500U - (8 ...  ₹45,990    4.3   \n",
              "1  ASUS TUF Gaming F15 Core i5 10th Gen - (8 GB/5...  ₹52,990    4.3   \n",
              "2  ASUS VivoBook 15 (2022) Core i3 10th Gen - (8 ...  ₹32,990    4.3   \n",
              "3  ASUS VivoBook 14 (2022) Ryzen 5 Quad Core 3500...  ₹37,990    4.4   \n",
              "4  DELL Inspiron Athlon Dual Core 3050U - (8 GB/2...  ₹31,490    4.2   \n",
              "5  DELL Inspiron Core i3 11th Gen - (8 GB/1 TB HD...  ₹42,890    4.3   \n",
              "6  ASUS TUF Gaming A17 Ryzen 7 Octa Core 4800H - ...  ₹75,990    4.5   \n",
              "7  ASUS Ryzen 3 Dual Core 3250U 3rd Gen - (8 GB/2...  ₹32,790    4.3   \n",
              "8  HP Pavilion Ryzen 5 Hexa Core 5600H - (8 GB/51...  ₹58,990    4.5   \n",
              "9  MSI Modern 14 Ryzen 5 Hexa Core 5500U - (8 GB/...  ₹44,990    4.4   \n",
              "\n",
              "                                             Picture  \\\n",
              "0  https://rukminim1.flixcart.com/image/312/312/k...   \n",
              "1  https://rukminim1.flixcart.com/image/312/312/l...   \n",
              "2  https://rukminim1.flixcart.com/image/312/312/k...   \n",
              "3  https://rukminim1.flixcart.com/image/312/312/l...   \n",
              "4  https://rukminim1.flixcart.com/image/312/312/l...   \n",
              "5  https://rukminim1.flixcart.com/image/312/312/k...   \n",
              "6  https://rukminim1.flixcart.com/image/312/312/l...   \n",
              "7  https://rukminim1.flixcart.com/image/312/312/k...   \n",
              "8  https://rukminim1.flixcart.com/image/312/312/k...   \n",
              "9  https://rukminim1.flixcart.com/image/312/312/x...   \n",
              "\n",
              "                                                Link  \n",
              "0  https://www.flipkart.com/lenovo-ideapad-3-ryze...  \n",
              "1  https://www.flipkart.com/asus-tuf-gaming-f15-c...  \n",
              "2  https://www.flipkart.com/asus-vivobook-15-2022...  \n",
              "3  https://www.flipkart.com/asus-vivobook-14-2022...  \n",
              "4  https://www.flipkart.com/dell-inspiron-athlon-...  \n",
              "5  https://www.flipkart.com/dell-inspiron-core-i3...  \n",
              "6  https://www.flipkart.com/asus-tuf-gaming-a17-r...  \n",
              "7  https://www.flipkart.com/asus-ryzen-3-dual-cor...  \n",
              "8  https://www.flipkart.com/hp-pavilion-ryzen-5-h...  \n",
              "9  https://www.flipkart.com/msi-modern-14-ryzen-5...  "
            ],
            "text/html": [
              "\n",
              "  <div id=\"df-2955dd84-d4c2-4dce-9a9b-7174fca3c694\">\n",
              "    <div class=\"colab-df-container\">\n",
              "      <div>\n",
              "<style scoped>\n",
              "    .dataframe tbody tr th:only-of-type {\n",
              "        vertical-align: middle;\n",
              "    }\n",
              "\n",
              "    .dataframe tbody tr th {\n",
              "        vertical-align: top;\n",
              "    }\n",
              "\n",
              "    .dataframe thead th {\n",
              "        text-align: right;\n",
              "    }\n",
              "</style>\n",
              "<table border=\"1\" class=\"dataframe\">\n",
              "  <thead>\n",
              "    <tr style=\"text-align: right;\">\n",
              "      <th></th>\n",
              "      <th>Laptop Name</th>\n",
              "      <th>Price</th>\n",
              "      <th>Rating</th>\n",
              "      <th>Picture</th>\n",
              "      <th>Link</th>\n",
              "    </tr>\n",
              "  </thead>\n",
              "  <tbody>\n",
              "    <tr>\n",
              "      <th>0</th>\n",
              "      <td>Lenovo IdeaPad 3 Ryzen 5 Hexa Core 5500U - (8 ...</td>\n",
              "      <td>₹45,990</td>\n",
              "      <td>4.3</td>\n",
              "      <td>https://rukminim1.flixcart.com/image/312/312/k...</td>\n",
              "      <td>https://www.flipkart.com/lenovo-ideapad-3-ryze...</td>\n",
              "    </tr>\n",
              "    <tr>\n",
              "      <th>1</th>\n",
              "      <td>ASUS TUF Gaming F15 Core i5 10th Gen - (8 GB/5...</td>\n",
              "      <td>₹52,990</td>\n",
              "      <td>4.3</td>\n",
              "      <td>https://rukminim1.flixcart.com/image/312/312/l...</td>\n",
              "      <td>https://www.flipkart.com/asus-tuf-gaming-f15-c...</td>\n",
              "    </tr>\n",
              "    <tr>\n",
              "      <th>2</th>\n",
              "      <td>ASUS VivoBook 15 (2022) Core i3 10th Gen - (8 ...</td>\n",
              "      <td>₹32,990</td>\n",
              "      <td>4.3</td>\n",
              "      <td>https://rukminim1.flixcart.com/image/312/312/k...</td>\n",
              "      <td>https://www.flipkart.com/asus-vivobook-15-2022...</td>\n",
              "    </tr>\n",
              "    <tr>\n",
              "      <th>3</th>\n",
              "      <td>ASUS VivoBook 14 (2022) Ryzen 5 Quad Core 3500...</td>\n",
              "      <td>₹37,990</td>\n",
              "      <td>4.4</td>\n",
              "      <td>https://rukminim1.flixcart.com/image/312/312/l...</td>\n",
              "      <td>https://www.flipkart.com/asus-vivobook-14-2022...</td>\n",
              "    </tr>\n",
              "    <tr>\n",
              "      <th>4</th>\n",
              "      <td>DELL Inspiron Athlon Dual Core 3050U - (8 GB/2...</td>\n",
              "      <td>₹31,490</td>\n",
              "      <td>4.2</td>\n",
              "      <td>https://rukminim1.flixcart.com/image/312/312/l...</td>\n",
              "      <td>https://www.flipkart.com/dell-inspiron-athlon-...</td>\n",
              "    </tr>\n",
              "    <tr>\n",
              "      <th>5</th>\n",
              "      <td>DELL Inspiron Core i3 11th Gen - (8 GB/1 TB HD...</td>\n",
              "      <td>₹42,890</td>\n",
              "      <td>4.3</td>\n",
              "      <td>https://rukminim1.flixcart.com/image/312/312/k...</td>\n",
              "      <td>https://www.flipkart.com/dell-inspiron-core-i3...</td>\n",
              "    </tr>\n",
              "    <tr>\n",
              "      <th>6</th>\n",
              "      <td>ASUS TUF Gaming A17 Ryzen 7 Octa Core 4800H - ...</td>\n",
              "      <td>₹75,990</td>\n",
              "      <td>4.5</td>\n",
              "      <td>https://rukminim1.flixcart.com/image/312/312/l...</td>\n",
              "      <td>https://www.flipkart.com/asus-tuf-gaming-a17-r...</td>\n",
              "    </tr>\n",
              "    <tr>\n",
              "      <th>7</th>\n",
              "      <td>ASUS Ryzen 3 Dual Core 3250U 3rd Gen - (8 GB/2...</td>\n",
              "      <td>₹32,790</td>\n",
              "      <td>4.3</td>\n",
              "      <td>https://rukminim1.flixcart.com/image/312/312/k...</td>\n",
              "      <td>https://www.flipkart.com/asus-ryzen-3-dual-cor...</td>\n",
              "    </tr>\n",
              "    <tr>\n",
              "      <th>8</th>\n",
              "      <td>HP Pavilion Ryzen 5 Hexa Core 5600H - (8 GB/51...</td>\n",
              "      <td>₹58,990</td>\n",
              "      <td>4.5</td>\n",
              "      <td>https://rukminim1.flixcart.com/image/312/312/k...</td>\n",
              "      <td>https://www.flipkart.com/hp-pavilion-ryzen-5-h...</td>\n",
              "    </tr>\n",
              "    <tr>\n",
              "      <th>9</th>\n",
              "      <td>MSI Modern 14 Ryzen 5 Hexa Core 5500U - (8 GB/...</td>\n",
              "      <td>₹44,990</td>\n",
              "      <td>4.4</td>\n",
              "      <td>https://rukminim1.flixcart.com/image/312/312/x...</td>\n",
              "      <td>https://www.flipkart.com/msi-modern-14-ryzen-5...</td>\n",
              "    </tr>\n",
              "  </tbody>\n",
              "</table>\n",
              "</div>\n",
              "      <button class=\"colab-df-convert\" onclick=\"convertToInteractive('df-2955dd84-d4c2-4dce-9a9b-7174fca3c694')\"\n",
              "              title=\"Convert this dataframe to an interactive table.\"\n",
              "              style=\"display:none;\">\n",
              "        \n",
              "  <svg xmlns=\"http://www.w3.org/2000/svg\" height=\"24px\"viewBox=\"0 0 24 24\"\n",
              "       width=\"24px\">\n",
              "    <path d=\"M0 0h24v24H0V0z\" fill=\"none\"/>\n",
              "    <path d=\"M18.56 5.44l.94 2.06.94-2.06 2.06-.94-2.06-.94-.94-2.06-.94 2.06-2.06.94zm-11 1L8.5 8.5l.94-2.06 2.06-.94-2.06-.94L8.5 2.5l-.94 2.06-2.06.94zm10 10l.94 2.06.94-2.06 2.06-.94-2.06-.94-.94-2.06-.94 2.06-2.06.94z\"/><path d=\"M17.41 7.96l-1.37-1.37c-.4-.4-.92-.59-1.43-.59-.52 0-1.04.2-1.43.59L10.3 9.45l-7.72 7.72c-.78.78-.78 2.05 0 2.83L4 21.41c.39.39.9.59 1.41.59.51 0 1.02-.2 1.41-.59l7.78-7.78 2.81-2.81c.8-.78.8-2.07 0-2.86zM5.41 20L4 18.59l7.72-7.72 1.47 1.35L5.41 20z\"/>\n",
              "  </svg>\n",
              "      </button>\n",
              "      \n",
              "  <style>\n",
              "    .colab-df-container {\n",
              "      display:flex;\n",
              "      flex-wrap:wrap;\n",
              "      gap: 12px;\n",
              "    }\n",
              "\n",
              "    .colab-df-convert {\n",
              "      background-color: #E8F0FE;\n",
              "      border: none;\n",
              "      border-radius: 50%;\n",
              "      cursor: pointer;\n",
              "      display: none;\n",
              "      fill: #1967D2;\n",
              "      height: 32px;\n",
              "      padding: 0 0 0 0;\n",
              "      width: 32px;\n",
              "    }\n",
              "\n",
              "    .colab-df-convert:hover {\n",
              "      background-color: #E2EBFA;\n",
              "      box-shadow: 0px 1px 2px rgba(60, 64, 67, 0.3), 0px 1px 3px 1px rgba(60, 64, 67, 0.15);\n",
              "      fill: #174EA6;\n",
              "    }\n",
              "\n",
              "    [theme=dark] .colab-df-convert {\n",
              "      background-color: #3B4455;\n",
              "      fill: #D2E3FC;\n",
              "    }\n",
              "\n",
              "    [theme=dark] .colab-df-convert:hover {\n",
              "      background-color: #434B5C;\n",
              "      box-shadow: 0px 1px 3px 1px rgba(0, 0, 0, 0.15);\n",
              "      filter: drop-shadow(0px 1px 2px rgba(0, 0, 0, 0.3));\n",
              "      fill: #FFFFFF;\n",
              "    }\n",
              "  </style>\n",
              "\n",
              "      <script>\n",
              "        const buttonEl =\n",
              "          document.querySelector('#df-2955dd84-d4c2-4dce-9a9b-7174fca3c694 button.colab-df-convert');\n",
              "        buttonEl.style.display =\n",
              "          google.colab.kernel.accessAllowed ? 'block' : 'none';\n",
              "\n",
              "        async function convertToInteractive(key) {\n",
              "          const element = document.querySelector('#df-2955dd84-d4c2-4dce-9a9b-7174fca3c694');\n",
              "          const dataTable =\n",
              "            await google.colab.kernel.invokeFunction('convertToInteractive',\n",
              "                                                     [key], {});\n",
              "          if (!dataTable) return;\n",
              "\n",
              "          const docLinkHtml = 'Like what you see? Visit the ' +\n",
              "            '<a target=\"_blank\" href=https://colab.research.google.com/notebooks/data_table.ipynb>data table notebook</a>'\n",
              "            + ' to learn more about interactive tables.';\n",
              "          element.innerHTML = '';\n",
              "          dataTable['output_type'] = 'display_data';\n",
              "          await google.colab.output.renderOutput(dataTable, element);\n",
              "          const docLink = document.createElement('div');\n",
              "          docLink.innerHTML = docLinkHtml;\n",
              "          element.appendChild(docLink);\n",
              "        }\n",
              "      </script>\n",
              "    </div>\n",
              "  </div>\n",
              "  "
            ]
          },
          "metadata": {},
          "execution_count": 18
        }
      ]
    },
    {
      "cell_type": "code",
      "source": [],
      "metadata": {
        "id": "1ZZjdtiPmU_j"
      },
      "execution_count": null,
      "outputs": []
    }
  ]
}