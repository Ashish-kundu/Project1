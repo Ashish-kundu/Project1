{
  "nbformat": 4,
  "nbformat_minor": 0,
  "metadata": {
    "colab": {
      "name": "Web Scraping on SSD Laptop in Flipkart.ipynb",
      "provenance": [],
      "mount_file_id": "1RRsVrAfbPU87D8q7usj9Jf9PekYcCZ-y",
      "authorship_tag": "ABX9TyM2jqPu05FVomR/CZDYwFsk",
      "include_colab_link": true
    },
    "kernelspec": {
      "name": "python3",
      "display_name": "Python 3"
    },
    "language_info": {
      "name": "python"
    }
  },
  "cells": [
    {
      "cell_type": "markdown",
      "metadata": {
        "id": "view-in-github",
        "colab_type": "text"
      },
      "source": [
        "<a href=\"https://colab.research.google.com/github/Ashish-kundu/google_colab/blob/main/Web_Scraping_on_SSD_Laptop_in_Flipkart.ipynb\" target=\"_parent\"><img src=\"https://colab.research.google.com/assets/colab-badge.svg\" alt=\"Open In Colab\"/></a>"
      ]
    },
    {
      "cell_type": "code",
      "execution_count": null,
      "metadata": {
        "id": "zGho7An7XdsK"
      },
      "outputs": [],
      "source": [
        "import requests\n",
        "from bs4 import BeautifulSoup as bs\n",
        "import urllib.request\n",
        "import pandas as pd"
      ]
    },
    {
      "cell_type": "code",
      "source": [
        "#for pagination \n",
        "\n",
        "list_name = []\n",
        "list_price=[]\n",
        "list_rating=[]\n",
        "list_pic=[]\n",
        "list_link=[]\n",
        "url_list=[]\n",
        "\n",
        "pg_no=int(input(\"Enter the page number :\"))\n",
        "for i in range(1,pg_no+1):\n",
        "  url=\"https://www.flipkart.com/search?q=laptop+ssd+price&sid=6bo%2Cb5g&as=on&as-show=on&otracker=AS_QueryStore_OrganicAutoSuggest_3_20_na_pm_na&otracker1=AS_QueryStore_OrganicAutoSuggest_3_20_na_pm_na&as-pos=3&as-type=HISTORY&suggestionId=laptop+ssd+price%7CLaptops&requestId=ad4a4ef7-7f89-4bd6-9332-be45ed78a278&page=\"+str(i)\n",
        "  html_content=requests.get(url)\n",
        "  data=html_content.content\n",
        "  data_file = bs(data,'html.parser')\n",
        "  for name in data_file.find_all(\"div\",class_='_4rR01T'):\n",
        "    a=name.get_text()\n",
        "    list_name.append(a)\n",
        "  for price in data_file.find_all(\"div\",class_='_30jeq3 _1_WHN1'):\n",
        "    b=price.get_text()\n",
        "    list_price.append(b)\n",
        "  for rating in data_file.find_all(\"div\",class_='_1YokD2 _3Mn1Gg'):\n",
        "    for i in data_file.find_all(\"div\",class_='_3LWZlK'):\n",
        "      d=i.get_text()\n",
        "      list_rating.append(d) \n",
        "  for pic in data_file.find_all(\"img\",class_='_396cs4 _3exPp9'):\n",
        "    img_path=pic.get('src')\n",
        "    list_pic.append(img_path)  \n",
        "  for links in data_file.find_all(\"div\",class_='_1AtVbE col-12-12'):\n",
        "   for i in links.find_all('a',class_='_1fQZEK'):\n",
        "     list_link.append(i.get('href'))  \n",
        "   base_url = 'https://www.flipkart.com'\n",
        "   for i in list_link:\n",
        "      url_list.append(base_url+str(i))  \n",
        "\n",
        "        \n",
        "  "
      ],
      "metadata": {
        "colab": {
          "base_uri": "https://localhost:8080/"
        },
        "id": "IFwPG3AUXwiB",
        "outputId": "5635c58b-f2d0-4779-e5c3-7bfa50d54785"
      },
      "execution_count": 97,
      "outputs": [
        {
          "name": "stdout",
          "output_type": "stream",
          "text": [
            "Enter the page number :49\n"
          ]
        }
      ]
    },
    {
      "cell_type": "code",
      "source": [
        "len(list_rating)"
      ],
      "metadata": {
        "colab": {
          "base_uri": "https://localhost:8080/"
        },
        "id": "CAF6JmcbtZ3Z",
        "outputId": "dc24b145-6b0d-493d-8e5b-5ef747bcc2fd"
      },
      "execution_count": 100,
      "outputs": [
        {
          "output_type": "execute_result",
          "data": {
            "text/plain": [
              "1270"
            ]
          },
          "metadata": {},
          "execution_count": 100
        }
      ]
    },
    {
      "cell_type": "code",
      "source": [
        "data_file=bs(data,'html.parser')\n",
        "#data_file.prettify"
      ],
      "metadata": {
        "id": "JWIfc5F6X4L_"
      },
      "execution_count": 82,
      "outputs": []
    },
    {
      "cell_type": "code",
      "source": [
        "# data_file.titel"
      ],
      "metadata": {
        "id": "Lr1WM8hFX7f9"
      },
      "execution_count": 70,
      "outputs": []
    },
    {
      "cell_type": "code",
      "source": [
        "# laptop_name=data_file.find_all(\"div\",class_='_4rR01T')\n",
        "# list_name=[]\n",
        "# for name in laptop_name:\n",
        "#     a=name.get_text()\n",
        "#     list_name.append(a)\n",
        "# list_name \n"
      ],
      "metadata": {
        "colab": {
          "base_uri": "https://localhost:8080/"
        },
        "id": "V6f5c0-TYAE-",
        "outputId": "5b17c422-31a1-4b29-89dc-10604332f56a"
      },
      "execution_count": 71,
      "outputs": [
        {
          "output_type": "execute_result",
          "data": {
            "text/plain": [
              "[]"
            ]
          },
          "metadata": {},
          "execution_count": 71
        }
      ]
    },
    {
      "cell_type": "code",
      "source": [
        "# laptop_price=data_file.find_all(\"div\",class_='_30jeq3 _1_WHN1')\n",
        "# list_price=[]\n",
        "# for price in laptop_price:\n",
        "#   b=price.get_text()\n",
        "#   list_price.append(b)\n",
        "# list_price  \n"
      ],
      "metadata": {
        "colab": {
          "base_uri": "https://localhost:8080/"
        },
        "id": "0JGPxQVXeOzl",
        "outputId": "54d63d8f-8ee9-4670-ae68-b7a49705af11"
      },
      "execution_count": 72,
      "outputs": [
        {
          "output_type": "execute_result",
          "data": {
            "text/plain": [
              "[]"
            ]
          },
          "metadata": {},
          "execution_count": 72
        }
      ]
    },
    {
      "cell_type": "code",
      "source": [
        "# laptop_fetures=data_file.find_all(\"li\",class_='rgWa7D(text)')\n",
        "# list_fetures=[]\n",
        "# for fetures in laptop_fetures:\n",
        "#   c=fetures.get_text()\n",
        "#   list_fetures.append(c)\n",
        "# list_fetures  \n",
        "# len(list_fetures)"
      ],
      "metadata": {
        "id": "C1GIa7Upi4lF"
      },
      "execution_count": 73,
      "outputs": []
    },
    {
      "cell_type": "code",
      "source": [
        "# laptop_rating= data_file.find_all(\"div\",class_='_3LWZlK')\n",
        "# list_rating=[]\n",
        "# for rating in laptop_rating:\n",
        "#   d=rating.get_text()\n",
        "#   list_rating.append(d)\n",
        "# list_rating\n"
      ],
      "metadata": {
        "colab": {
          "base_uri": "https://localhost:8080/"
        },
        "id": "vj_rbl16kIJP",
        "outputId": "6e43e35b-b35c-445c-a8af-c57b753a0143"
      },
      "execution_count": 74,
      "outputs": [
        {
          "output_type": "execute_result",
          "data": {
            "text/plain": [
              "[]"
            ]
          },
          "metadata": {},
          "execution_count": 74
        }
      ]
    },
    {
      "cell_type": "code",
      "source": [
        "# laptop_pic=data_file.find_all(\"img\",class_='_396cs4 _3exPp9')\n",
        "# # print(laptop_pic)\n",
        "# list_pic=[]\n",
        "# for pic in laptop_pic:\n",
        "#     img_path=pic.get('src')\n",
        "#     list_pic.append(img_path)\n",
        "# list_pic\n",
        "# # len(list_pic)"
      ],
      "metadata": {
        "colab": {
          "base_uri": "https://localhost:8080/"
        },
        "id": "BXzNhBle4Evi",
        "outputId": "33bbb496-858d-4b3a-f390-53a7e565a1f3"
      },
      "execution_count": 75,
      "outputs": [
        {
          "output_type": "execute_result",
          "data": {
            "text/plain": [
              "[]"
            ]
          },
          "metadata": {},
          "execution_count": 75
        }
      ]
    },
    {
      "cell_type": "code",
      "source": [
        "# laptop_link=data_file.find_all(\"div\",class_='_1AtVbE col-12-12')\n",
        "# list_link=[]\n",
        "# for links in laptop_link:\n",
        "#   for i in links.find_all('a',class_='_1fQZEK'):\n",
        "#     list_link.append(i.get('href'))\n",
        "    "
      ],
      "metadata": {
        "id": "Ndes6Y73aKSr"
      },
      "execution_count": 76,
      "outputs": []
    },
    {
      "cell_type": "code",
      "source": [
        "# list_link"
      ],
      "metadata": {
        "colab": {
          "base_uri": "https://localhost:8080/"
        },
        "id": "BYcUFZhtqx7X",
        "outputId": "e3b4579d-d97a-45c0-c0f3-f251cb02f062"
      },
      "execution_count": 63,
      "outputs": [
        {
          "output_type": "execute_result",
          "data": {
            "text/plain": [
              "[]"
            ]
          },
          "metadata": {},
          "execution_count": 63
        }
      ]
    },
    {
      "cell_type": "code",
      "source": [
        "# url_list=[]\n",
        "# base_url = 'https://www.flipkart.com'\n",
        "# for i in list_link:\n",
        "#   url_list.append(base_url+str(i))\n",
        "  \n"
      ],
      "metadata": {
        "id": "45pjXtzqdRqo"
      },
      "execution_count": 64,
      "outputs": []
    },
    {
      "cell_type": "code",
      "source": [
        "# for i in url_list:\n",
        "#   print(i)"
      ],
      "metadata": {
        "id": "6wfvCeJQdxd9"
      },
      "execution_count": 65,
      "outputs": []
    },
    {
      "cell_type": "code",
      "source": [
        "dict={\n",
        "    'Laptop Name':list_name[0:984],\n",
        "    # 'Latop Fetures':list_fetures,\n",
        "    'Price':list_price[0:984],\n",
        "    'Rating':list_rating[0:984],\n",
        "    'Picture': list_pic[0:984],\n",
        "    'Link': url_list[0:984]}\n"
      ],
      "metadata": {
        "id": "IbAbRxJ0lP9q"
      },
      "execution_count": 103,
      "outputs": []
    },
    {
      "cell_type": "code",
      "source": [
        "df=pd.DataFrame(dict)\n",
        "df.tail(10)"
      ],
      "metadata": {
        "colab": {
          "base_uri": "https://localhost:8080/",
          "height": 363
        },
        "id": "Sb9ZskdFmGHv",
        "outputId": "0748d528-817c-471d-c729-2da25031e576"
      },
      "execution_count": 105,
      "outputs": [
        {
          "output_type": "execute_result",
          "data": {
            "text/plain": [
              "                                           Laptop Name    Price Rating  \\\n",
              "974  DELL Inspiron Core i5 11th Gen - (16 GB/512 GB...  ₹77,990    4.3   \n",
              "975  Lenovo Ideapad Slim 3i Core i5 11th Gen - (8 G...  ₹52,999    4.3   \n",
              "976  DELL INSPIRON 15 3000 Core i5 8th Gen - (8 GB/...  ₹56,992    4.1   \n",
              "977  Avita Pura Ryzen 5 Quad Core 3500U - (8 GB/512...  ₹51,490    4.2   \n",
              "978  Lenovo IdeaPad Gaming 3 Core i5 11th Gen - (8 ...  ₹59,999    4.3   \n",
              "979  Lenovo Core i3 11th Gen - (8 GB/512 GB SSD/Win...  ₹49,490    4.2   \n",
              "980  HP Elitebook Core i5 8th Gen - (8 GB + 32 GB O...  ₹90,464      4   \n",
              "981  Lenovo Core i3 10th Gen - (4 GB/256 GB SSD/Win...  ₹38,700    4.1   \n",
              "982  ASUS Core i5 11th Gen - (16 GB/1 TB HDD/256 GB...  ₹50,990    4.5   \n",
              "983  ASUS VivoBook 15 (2022) Core i5 11th Gen - (8 ...  ₹46,990    1.7   \n",
              "\n",
              "                                               Picture  \\\n",
              "974  https://rukminim1.flixcart.com/image/312/312/k...   \n",
              "975  https://rukminim1.flixcart.com/image/312/312/k...   \n",
              "976  https://rukminim1.flixcart.com/image/312/312/k...   \n",
              "977  https://rukminim1.flixcart.com/image/312/312/k...   \n",
              "978  https://rukminim1.flixcart.com/image/312/312/k...   \n",
              "979  https://rukminim1.flixcart.com/image/312/312/k...   \n",
              "980  https://rukminim1.flixcart.com/image/312/312/k...   \n",
              "981  https://rukminim1.flixcart.com/image/312/312/k...   \n",
              "982  https://rukminim1.flixcart.com/image/312/312/k...   \n",
              "983  https://rukminim1.flixcart.com/image/312/312/k...   \n",
              "\n",
              "                                                  Link  \n",
              "974  https://www.flipkart.com/lenovo-ideapad-gaming...  \n",
              "975  https://www.flipkart.com/lenovo-ideapad-3-core...  \n",
              "976  https://www.flipkart.com/infinix-x1-slim-serie...  \n",
              "977  https://www.flipkart.com/lenovo-ideapad-3-core...  \n",
              "978  https://www.flipkart.com/infinix-inbook-x1-neo...  \n",
              "979  https://www.flipkart.com/dell-inspiron-athlon-...  \n",
              "980  https://www.flipkart.com/asus-vivobook-15-2022...  \n",
              "981  https://www.flipkart.com/asus-vivobook-15-ryze...  \n",
              "982  https://www.flipkart.com/asus-vivobook-15-2022...  \n",
              "983  https://www.flipkart.com/msi-modern-14-core-i5...  "
            ],
            "text/html": [
              "\n",
              "  <div id=\"df-b782ce29-1132-41b0-beb8-b8ea0a1e1ab1\">\n",
              "    <div class=\"colab-df-container\">\n",
              "      <div>\n",
              "<style scoped>\n",
              "    .dataframe tbody tr th:only-of-type {\n",
              "        vertical-align: middle;\n",
              "    }\n",
              "\n",
              "    .dataframe tbody tr th {\n",
              "        vertical-align: top;\n",
              "    }\n",
              "\n",
              "    .dataframe thead th {\n",
              "        text-align: right;\n",
              "    }\n",
              "</style>\n",
              "<table border=\"1\" class=\"dataframe\">\n",
              "  <thead>\n",
              "    <tr style=\"text-align: right;\">\n",
              "      <th></th>\n",
              "      <th>Laptop Name</th>\n",
              "      <th>Price</th>\n",
              "      <th>Rating</th>\n",
              "      <th>Picture</th>\n",
              "      <th>Link</th>\n",
              "    </tr>\n",
              "  </thead>\n",
              "  <tbody>\n",
              "    <tr>\n",
              "      <th>974</th>\n",
              "      <td>DELL Inspiron Core i5 11th Gen - (16 GB/512 GB...</td>\n",
              "      <td>₹77,990</td>\n",
              "      <td>4.3</td>\n",
              "      <td>https://rukminim1.flixcart.com/image/312/312/k...</td>\n",
              "      <td>https://www.flipkart.com/lenovo-ideapad-gaming...</td>\n",
              "    </tr>\n",
              "    <tr>\n",
              "      <th>975</th>\n",
              "      <td>Lenovo Ideapad Slim 3i Core i5 11th Gen - (8 G...</td>\n",
              "      <td>₹52,999</td>\n",
              "      <td>4.3</td>\n",
              "      <td>https://rukminim1.flixcart.com/image/312/312/k...</td>\n",
              "      <td>https://www.flipkart.com/lenovo-ideapad-3-core...</td>\n",
              "    </tr>\n",
              "    <tr>\n",
              "      <th>976</th>\n",
              "      <td>DELL INSPIRON 15 3000 Core i5 8th Gen - (8 GB/...</td>\n",
              "      <td>₹56,992</td>\n",
              "      <td>4.1</td>\n",
              "      <td>https://rukminim1.flixcart.com/image/312/312/k...</td>\n",
              "      <td>https://www.flipkart.com/infinix-x1-slim-serie...</td>\n",
              "    </tr>\n",
              "    <tr>\n",
              "      <th>977</th>\n",
              "      <td>Avita Pura Ryzen 5 Quad Core 3500U - (8 GB/512...</td>\n",
              "      <td>₹51,490</td>\n",
              "      <td>4.2</td>\n",
              "      <td>https://rukminim1.flixcart.com/image/312/312/k...</td>\n",
              "      <td>https://www.flipkart.com/lenovo-ideapad-3-core...</td>\n",
              "    </tr>\n",
              "    <tr>\n",
              "      <th>978</th>\n",
              "      <td>Lenovo IdeaPad Gaming 3 Core i5 11th Gen - (8 ...</td>\n",
              "      <td>₹59,999</td>\n",
              "      <td>4.3</td>\n",
              "      <td>https://rukminim1.flixcart.com/image/312/312/k...</td>\n",
              "      <td>https://www.flipkart.com/infinix-inbook-x1-neo...</td>\n",
              "    </tr>\n",
              "    <tr>\n",
              "      <th>979</th>\n",
              "      <td>Lenovo Core i3 11th Gen - (8 GB/512 GB SSD/Win...</td>\n",
              "      <td>₹49,490</td>\n",
              "      <td>4.2</td>\n",
              "      <td>https://rukminim1.flixcart.com/image/312/312/k...</td>\n",
              "      <td>https://www.flipkart.com/dell-inspiron-athlon-...</td>\n",
              "    </tr>\n",
              "    <tr>\n",
              "      <th>980</th>\n",
              "      <td>HP Elitebook Core i5 8th Gen - (8 GB + 32 GB O...</td>\n",
              "      <td>₹90,464</td>\n",
              "      <td>4</td>\n",
              "      <td>https://rukminim1.flixcart.com/image/312/312/k...</td>\n",
              "      <td>https://www.flipkart.com/asus-vivobook-15-2022...</td>\n",
              "    </tr>\n",
              "    <tr>\n",
              "      <th>981</th>\n",
              "      <td>Lenovo Core i3 10th Gen - (4 GB/256 GB SSD/Win...</td>\n",
              "      <td>₹38,700</td>\n",
              "      <td>4.1</td>\n",
              "      <td>https://rukminim1.flixcart.com/image/312/312/k...</td>\n",
              "      <td>https://www.flipkart.com/asus-vivobook-15-ryze...</td>\n",
              "    </tr>\n",
              "    <tr>\n",
              "      <th>982</th>\n",
              "      <td>ASUS Core i5 11th Gen - (16 GB/1 TB HDD/256 GB...</td>\n",
              "      <td>₹50,990</td>\n",
              "      <td>4.5</td>\n",
              "      <td>https://rukminim1.flixcart.com/image/312/312/k...</td>\n",
              "      <td>https://www.flipkart.com/asus-vivobook-15-2022...</td>\n",
              "    </tr>\n",
              "    <tr>\n",
              "      <th>983</th>\n",
              "      <td>ASUS VivoBook 15 (2022) Core i5 11th Gen - (8 ...</td>\n",
              "      <td>₹46,990</td>\n",
              "      <td>1.7</td>\n",
              "      <td>https://rukminim1.flixcart.com/image/312/312/k...</td>\n",
              "      <td>https://www.flipkart.com/msi-modern-14-core-i5...</td>\n",
              "    </tr>\n",
              "  </tbody>\n",
              "</table>\n",
              "</div>\n",
              "      <button class=\"colab-df-convert\" onclick=\"convertToInteractive('df-b782ce29-1132-41b0-beb8-b8ea0a1e1ab1')\"\n",
              "              title=\"Convert this dataframe to an interactive table.\"\n",
              "              style=\"display:none;\">\n",
              "        \n",
              "  <svg xmlns=\"http://www.w3.org/2000/svg\" height=\"24px\"viewBox=\"0 0 24 24\"\n",
              "       width=\"24px\">\n",
              "    <path d=\"M0 0h24v24H0V0z\" fill=\"none\"/>\n",
              "    <path d=\"M18.56 5.44l.94 2.06.94-2.06 2.06-.94-2.06-.94-.94-2.06-.94 2.06-2.06.94zm-11 1L8.5 8.5l.94-2.06 2.06-.94-2.06-.94L8.5 2.5l-.94 2.06-2.06.94zm10 10l.94 2.06.94-2.06 2.06-.94-2.06-.94-.94-2.06-.94 2.06-2.06.94z\"/><path d=\"M17.41 7.96l-1.37-1.37c-.4-.4-.92-.59-1.43-.59-.52 0-1.04.2-1.43.59L10.3 9.45l-7.72 7.72c-.78.78-.78 2.05 0 2.83L4 21.41c.39.39.9.59 1.41.59.51 0 1.02-.2 1.41-.59l7.78-7.78 2.81-2.81c.8-.78.8-2.07 0-2.86zM5.41 20L4 18.59l7.72-7.72 1.47 1.35L5.41 20z\"/>\n",
              "  </svg>\n",
              "      </button>\n",
              "      \n",
              "  <style>\n",
              "    .colab-df-container {\n",
              "      display:flex;\n",
              "      flex-wrap:wrap;\n",
              "      gap: 12px;\n",
              "    }\n",
              "\n",
              "    .colab-df-convert {\n",
              "      background-color: #E8F0FE;\n",
              "      border: none;\n",
              "      border-radius: 50%;\n",
              "      cursor: pointer;\n",
              "      display: none;\n",
              "      fill: #1967D2;\n",
              "      height: 32px;\n",
              "      padding: 0 0 0 0;\n",
              "      width: 32px;\n",
              "    }\n",
              "\n",
              "    .colab-df-convert:hover {\n",
              "      background-color: #E2EBFA;\n",
              "      box-shadow: 0px 1px 2px rgba(60, 64, 67, 0.3), 0px 1px 3px 1px rgba(60, 64, 67, 0.15);\n",
              "      fill: #174EA6;\n",
              "    }\n",
              "\n",
              "    [theme=dark] .colab-df-convert {\n",
              "      background-color: #3B4455;\n",
              "      fill: #D2E3FC;\n",
              "    }\n",
              "\n",
              "    [theme=dark] .colab-df-convert:hover {\n",
              "      background-color: #434B5C;\n",
              "      box-shadow: 0px 1px 3px 1px rgba(0, 0, 0, 0.15);\n",
              "      filter: drop-shadow(0px 1px 2px rgba(0, 0, 0, 0.3));\n",
              "      fill: #FFFFFF;\n",
              "    }\n",
              "  </style>\n",
              "\n",
              "      <script>\n",
              "        const buttonEl =\n",
              "          document.querySelector('#df-b782ce29-1132-41b0-beb8-b8ea0a1e1ab1 button.colab-df-convert');\n",
              "        buttonEl.style.display =\n",
              "          google.colab.kernel.accessAllowed ? 'block' : 'none';\n",
              "\n",
              "        async function convertToInteractive(key) {\n",
              "          const element = document.querySelector('#df-b782ce29-1132-41b0-beb8-b8ea0a1e1ab1');\n",
              "          const dataTable =\n",
              "            await google.colab.kernel.invokeFunction('convertToInteractive',\n",
              "                                                     [key], {});\n",
              "          if (!dataTable) return;\n",
              "\n",
              "          const docLinkHtml = 'Like what you see? Visit the ' +\n",
              "            '<a target=\"_blank\" href=https://colab.research.google.com/notebooks/data_table.ipynb>data table notebook</a>'\n",
              "            + ' to learn more about interactive tables.';\n",
              "          element.innerHTML = '';\n",
              "          dataTable['output_type'] = 'display_data';\n",
              "          await google.colab.output.renderOutput(dataTable, element);\n",
              "          const docLink = document.createElement('div');\n",
              "          docLink.innerHTML = docLinkHtml;\n",
              "          element.appendChild(docLink);\n",
              "        }\n",
              "      </script>\n",
              "    </div>\n",
              "  </div>\n",
              "  "
            ]
          },
          "metadata": {},
          "execution_count": 105
        }
      ]
    },
    {
      "cell_type": "code",
      "source": [
        "pd.to_csv()"
      ],
      "metadata": {
        "id": "1ZZjdtiPmU_j"
      },
      "execution_count": null,
      "outputs": []
    }
  ]
}