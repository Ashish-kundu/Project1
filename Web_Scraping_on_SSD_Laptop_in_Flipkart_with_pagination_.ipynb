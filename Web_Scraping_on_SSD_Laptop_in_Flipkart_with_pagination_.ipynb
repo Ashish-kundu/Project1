{
  "nbformat": 4,
  "nbformat_minor": 0,
  "metadata": {
    "colab": {
      "provenance": [],
      "mount_file_id": "1RRsVrAfbPU87D8q7usj9Jf9PekYcCZ-y",
      "authorship_tag": "ABX9TyPsWuN6JuIzHoFdTZROvQDq",
      "include_colab_link": true
    },
    "kernelspec": {
      "name": "python3",
      "display_name": "Python 3"
    },
    "language_info": {
      "name": "python"
    }
  },
  "cells": [
    {
      "cell_type": "markdown",
      "metadata": {
        "id": "view-in-github",
        "colab_type": "text"
      },
      "source": [
        "<a href=\"https://colab.research.google.com/github/Ashish-kundu/Project1/blob/main/Web_Scraping_on_SSD_Laptop_in_Flipkart_with_pagination_.ipynb\" target=\"_parent\"><img src=\"https://colab.research.google.com/assets/colab-badge.svg\" alt=\"Open In Colab\"/></a>"
      ]
    },
    {
      "cell_type": "code",
      "execution_count": 27,
      "metadata": {
        "id": "zGho7An7XdsK"
      },
      "outputs": [],
      "source": [
        "import requests\n",
        "from bs4 import BeautifulSoup as bs\n",
        "import urllib.request\n",
        "import pandas as pd\n",
        "import numpy as np"
      ]
    },
    {
      "cell_type": "code",
      "source": [
        "#for pagination \n",
        "\n",
        "list_name = []\n",
        "list_price=[]\n",
        "list_rating=[]\n",
        "list_pic=[]\n",
        "list_link=[]\n",
        "url_list=[]\n",
        "\n",
        "pg_no=int(input(\"Enter the page number :\"))\n",
        "for i in range(1,pg_no+1):\n",
        "  url=\"https://www.flipkart.com/search?q=laptop+ssd+price&sid=6bo%2Cb5g&as=on&as-show=on&otracker=AS_QueryStore_OrganicAutoSuggest_3_20_na_pm_na&otracker1=AS_QueryStore_OrganicAutoSuggest_3_20_na_pm_na&as-pos=3&as-type=HISTORY&suggestionId=laptop+ssd+price%7CLaptops&requestId=ad4a4ef7-7f89-4bd6-9332-be45ed78a278&page=\"+str(i)\n",
        "  html_content=requests.get(url)\n",
        "  data=html_content.content\n",
        "  data_file = bs(data,'html.parser')\n",
        "  for name in data_file.find_all(\"div\",class_='_4rR01T'):\n",
        "    a=name.get_text()\n",
        "    list_name.append(a)\n",
        "  for price in data_file.find_all(\"div\",class_='_30jeq3 _1_WHN1'):\n",
        "    b=price.get_text()\n",
        "    list_price.append(b)\n",
        "  for rating in data_file.find_all(\"div\",class_='_1YokD2 _3Mn1Gg'):\n",
        "    for i in data_file.find_all(\"div\",class_='_3LWZlK'):\n",
        "      d=i.get_text()\n",
        "      list_rating.append(d) \n",
        "  for pic in data_file.find_all(\"img\",class_='_396cs4 _3exPp9'):\n",
        "    img_path=pic.get('src')\n",
        "    list_pic.append(img_path)  \n",
        "  for links in data_file.find_all(\"div\",class_='_1AtVbE col-12-12'):\n",
        "   for i in links.find_all('a',class_='_1fQZEK'):\n",
        "     list_link.append(i.get('href'))  \n",
        "   base_url = 'https://www.flipkart.com'\n",
        "   for i in list_link:\n",
        "      url_list.append(base_url+str(i))  \n",
        "\n",
        "        \n",
        "  "
      ],
      "metadata": {
        "colab": {
          "base_uri": "https://localhost:8080/"
        },
        "id": "IFwPG3AUXwiB",
        "outputId": "c45d6672-232e-4a54-bbb7-f94efd5c6556"
      },
      "execution_count": 2,
      "outputs": [
        {
          "name": "stdout",
          "output_type": "stream",
          "text": [
            "Enter the page number :49\n"
          ]
        }
      ]
    },
    {
      "cell_type": "code",
      "source": [
        "# len(list_pic)"
      ],
      "metadata": {
        "id": "CAF6JmcbtZ3Z"
      },
      "execution_count": 32,
      "outputs": []
    },
    {
      "cell_type": "code",
      "source": [
        "data_file=bs(data,'html.parser')\n",
        "#data_file.prettify"
      ],
      "metadata": {
        "id": "JWIfc5F6X4L_"
      },
      "execution_count": 4,
      "outputs": []
    },
    {
      "cell_type": "code",
      "source": [
        "# data_file.titel"
      ],
      "metadata": {
        "id": "Lr1WM8hFX7f9"
      },
      "execution_count": 5,
      "outputs": []
    },
    {
      "cell_type": "code",
      "source": [
        "# laptop_name=data_file.find_all(\"div\",class_='_4rR01T')\n",
        "# list_name=[]\n",
        "# for name in laptop_name:\n",
        "#     a=name.get_text()\n",
        "#     list_name.append(a)\n",
        "# list_name \n"
      ],
      "metadata": {
        "id": "V6f5c0-TYAE-"
      },
      "execution_count": 6,
      "outputs": []
    },
    {
      "cell_type": "code",
      "source": [
        "# laptop_price=data_file.find_all(\"div\",class_='_30jeq3 _1_WHN1')\n",
        "# list_price=[]\n",
        "# for price in laptop_price:\n",
        "#   b=price.get_text()\n",
        "#   list_price.append(b)\n",
        "# list_price  \n"
      ],
      "metadata": {
        "id": "0JGPxQVXeOzl"
      },
      "execution_count": 7,
      "outputs": []
    },
    {
      "cell_type": "code",
      "source": [
        "# laptop_fetures=data_file.find_all(\"li\",class_='rgWa7D(text)')\n",
        "# list_fetures=[]\n",
        "# for fetures in laptop_fetures:\n",
        "#   c=fetures.get_text()\n",
        "#   list_fetures.append(c)\n",
        "# list_fetures  \n",
        "# len(list_fetures)"
      ],
      "metadata": {
        "id": "C1GIa7Upi4lF"
      },
      "execution_count": 8,
      "outputs": []
    },
    {
      "cell_type": "code",
      "source": [
        "# laptop_rating= data_file.find_all(\"div\",class_='_3LWZlK')\n",
        "# list_rating=[]\n",
        "# for rating in laptop_rating:\n",
        "#   d=rating.get_text()\n",
        "#   list_rating.append(d)\n",
        "# list_rating\n"
      ],
      "metadata": {
        "id": "vj_rbl16kIJP"
      },
      "execution_count": 9,
      "outputs": []
    },
    {
      "cell_type": "code",
      "source": [
        "# laptop_pic=data_file.find_all(\"img\",class_='_396cs4 _3exPp9')\n",
        "# # print(laptop_pic)\n",
        "# list_pic=[]\n",
        "# for pic in laptop_pic:\n",
        "#     img_path=pic.get('src')\n",
        "#     list_pic.append(img_path)\n",
        "# list_pic\n",
        "# # len(list_pic)"
      ],
      "metadata": {
        "id": "BXzNhBle4Evi"
      },
      "execution_count": 10,
      "outputs": []
    },
    {
      "cell_type": "code",
      "source": [
        "# laptop_link=data_file.find_all(\"div\",class_='_1AtVbE col-12-12')\n",
        "# list_link=[]\n",
        "# for links in laptop_link:\n",
        "#   for i in links.find_all('a',class_='_1fQZEK'):\n",
        "#     list_link.append(i.get('href'))\n",
        "    "
      ],
      "metadata": {
        "id": "Ndes6Y73aKSr"
      },
      "execution_count": 11,
      "outputs": []
    },
    {
      "cell_type": "code",
      "source": [
        "# list_link"
      ],
      "metadata": {
        "id": "BYcUFZhtqx7X"
      },
      "execution_count": 12,
      "outputs": []
    },
    {
      "cell_type": "code",
      "source": [
        "# url_list=[]\n",
        "# base_url = 'https://www.flipkart.com'\n",
        "# for i in list_link:\n",
        "#   url_list.append(base_url+str(i))\n",
        "  \n"
      ],
      "metadata": {
        "id": "45pjXtzqdRqo"
      },
      "execution_count": 13,
      "outputs": []
    },
    {
      "cell_type": "code",
      "source": [
        "# for i in url_list:\n",
        "#   print(i)"
      ],
      "metadata": {
        "id": "6wfvCeJQdxd9"
      },
      "execution_count": 14,
      "outputs": []
    },
    {
      "cell_type": "code",
      "source": [
        "dict={\n",
        "    'Laptop Name':list_name[0:960],\n",
        "    # 'Latop Fetures':list_fetures,\n",
        "    'Price':list_[0:960],\n",
        "    'Rating':list_rating[0:960],\n",
        "    'Picture': list_pic[0:960],\n",
        "    # 'Link': url_list[0:960]\n",
        "    }\n"
      ],
      "metadata": {
        "id": "IbAbRxJ0lP9q"
      },
      "execution_count": 24,
      "outputs": []
    },
    {
      "cell_type": "code",
      "source": [
        "df=pd.DataFrame(dict)\n",
        "df.head(10)"
      ],
      "metadata": {
        "colab": {
          "base_uri": "https://localhost:8080/",
          "height": 363
        },
        "id": "Sb9ZskdFmGHv",
        "outputId": "4cb57fd8-5a7d-4c34-8893-8b2b6245b673"
      },
      "execution_count": 25,
      "outputs": [
        {
          "output_type": "execute_result",
          "data": {
            "text/plain": [
              "                                         Laptop Name    Price Rating  \\\n",
              "0  realme Book (Slim) Core i3 11th Gen - (8 GB/25...  ₹32,999    4.4   \n",
              "1  ASUS VivoBook K15 OLED Ryzen 7 Octa Core 5700U...  ₹69,990    4.3   \n",
              "2  Lenovo IdeaPad 3 Ryzen 5 Hexa Core 5500U - (8 ...  ₹45,990    4.3   \n",
              "3  DELL Inspiron Athlon Dual Core 3050U - (8 GB/2...  ₹30,899    4.2   \n",
              "4  MSI Modern 14 Ryzen 5 Hexa Core 5500U - (8 GB/...  ₹39,990    4.4   \n",
              "5  HP Pavilion Ryzen 5 Hexa Core 5600H - (8 GB/51...  ₹58,990    4.5   \n",
              "6  ASUS Vivobook 15 Core i3 10th Gen - (8 GB/256 ...  ₹27,990    4.5   \n",
              "7  acer Aspire 7 Ryzen 5 Hexa Core 5500U - (8 GB/...  ₹49,990    4.4   \n",
              "8  ASUS VivoBook 14 (2022) Ryzen 5 Quad Core 3500...  ₹35,990    4.2   \n",
              "9  Lenovo IdeaPad 3 Core i3 11th Gen - (8 GB/512 ...  ₹40,990    4.2   \n",
              "\n",
              "                                             Picture  \n",
              "0  https://rukminim1.flixcart.com/image/312/312/k...  \n",
              "1  https://rukminim1.flixcart.com/image/312/312/l...  \n",
              "2  https://rukminim1.flixcart.com/image/312/312/k...  \n",
              "3  https://rukminim1.flixcart.com/image/312/312/l...  \n",
              "4  https://rukminim1.flixcart.com/image/312/312/x...  \n",
              "5  https://rukminim1.flixcart.com/image/312/312/k...  \n",
              "6  https://rukminim1.flixcart.com/image/312/312/k...  \n",
              "7  https://rukminim1.flixcart.com/image/312/312/k...  \n",
              "8  https://rukminim1.flixcart.com/image/312/312/l...  \n",
              "9  https://rukminim1.flixcart.com/image/312/312/k...  "
            ],
            "text/html": [
              "\n",
              "  <div id=\"df-c82d01b1-2465-4cf7-aa65-80576d03e306\">\n",
              "    <div class=\"colab-df-container\">\n",
              "      <div>\n",
              "<style scoped>\n",
              "    .dataframe tbody tr th:only-of-type {\n",
              "        vertical-align: middle;\n",
              "    }\n",
              "\n",
              "    .dataframe tbody tr th {\n",
              "        vertical-align: top;\n",
              "    }\n",
              "\n",
              "    .dataframe thead th {\n",
              "        text-align: right;\n",
              "    }\n",
              "</style>\n",
              "<table border=\"1\" class=\"dataframe\">\n",
              "  <thead>\n",
              "    <tr style=\"text-align: right;\">\n",
              "      <th></th>\n",
              "      <th>Laptop Name</th>\n",
              "      <th>Price</th>\n",
              "      <th>Rating</th>\n",
              "      <th>Picture</th>\n",
              "    </tr>\n",
              "  </thead>\n",
              "  <tbody>\n",
              "    <tr>\n",
              "      <th>0</th>\n",
              "      <td>realme Book (Slim) Core i3 11th Gen - (8 GB/25...</td>\n",
              "      <td>₹32,999</td>\n",
              "      <td>4.4</td>\n",
              "      <td>https://rukminim1.flixcart.com/image/312/312/k...</td>\n",
              "    </tr>\n",
              "    <tr>\n",
              "      <th>1</th>\n",
              "      <td>ASUS VivoBook K15 OLED Ryzen 7 Octa Core 5700U...</td>\n",
              "      <td>₹69,990</td>\n",
              "      <td>4.3</td>\n",
              "      <td>https://rukminim1.flixcart.com/image/312/312/l...</td>\n",
              "    </tr>\n",
              "    <tr>\n",
              "      <th>2</th>\n",
              "      <td>Lenovo IdeaPad 3 Ryzen 5 Hexa Core 5500U - (8 ...</td>\n",
              "      <td>₹45,990</td>\n",
              "      <td>4.3</td>\n",
              "      <td>https://rukminim1.flixcart.com/image/312/312/k...</td>\n",
              "    </tr>\n",
              "    <tr>\n",
              "      <th>3</th>\n",
              "      <td>DELL Inspiron Athlon Dual Core 3050U - (8 GB/2...</td>\n",
              "      <td>₹30,899</td>\n",
              "      <td>4.2</td>\n",
              "      <td>https://rukminim1.flixcart.com/image/312/312/l...</td>\n",
              "    </tr>\n",
              "    <tr>\n",
              "      <th>4</th>\n",
              "      <td>MSI Modern 14 Ryzen 5 Hexa Core 5500U - (8 GB/...</td>\n",
              "      <td>₹39,990</td>\n",
              "      <td>4.4</td>\n",
              "      <td>https://rukminim1.flixcart.com/image/312/312/x...</td>\n",
              "    </tr>\n",
              "    <tr>\n",
              "      <th>5</th>\n",
              "      <td>HP Pavilion Ryzen 5 Hexa Core 5600H - (8 GB/51...</td>\n",
              "      <td>₹58,990</td>\n",
              "      <td>4.5</td>\n",
              "      <td>https://rukminim1.flixcart.com/image/312/312/k...</td>\n",
              "    </tr>\n",
              "    <tr>\n",
              "      <th>6</th>\n",
              "      <td>ASUS Vivobook 15 Core i3 10th Gen - (8 GB/256 ...</td>\n",
              "      <td>₹27,990</td>\n",
              "      <td>4.5</td>\n",
              "      <td>https://rukminim1.flixcart.com/image/312/312/k...</td>\n",
              "    </tr>\n",
              "    <tr>\n",
              "      <th>7</th>\n",
              "      <td>acer Aspire 7 Ryzen 5 Hexa Core 5500U - (8 GB/...</td>\n",
              "      <td>₹49,990</td>\n",
              "      <td>4.4</td>\n",
              "      <td>https://rukminim1.flixcart.com/image/312/312/k...</td>\n",
              "    </tr>\n",
              "    <tr>\n",
              "      <th>8</th>\n",
              "      <td>ASUS VivoBook 14 (2022) Ryzen 5 Quad Core 3500...</td>\n",
              "      <td>₹35,990</td>\n",
              "      <td>4.2</td>\n",
              "      <td>https://rukminim1.flixcart.com/image/312/312/l...</td>\n",
              "    </tr>\n",
              "    <tr>\n",
              "      <th>9</th>\n",
              "      <td>Lenovo IdeaPad 3 Core i3 11th Gen - (8 GB/512 ...</td>\n",
              "      <td>₹40,990</td>\n",
              "      <td>4.2</td>\n",
              "      <td>https://rukminim1.flixcart.com/image/312/312/k...</td>\n",
              "    </tr>\n",
              "  </tbody>\n",
              "</table>\n",
              "</div>\n",
              "      <button class=\"colab-df-convert\" onclick=\"convertToInteractive('df-c82d01b1-2465-4cf7-aa65-80576d03e306')\"\n",
              "              title=\"Convert this dataframe to an interactive table.\"\n",
              "              style=\"display:none;\">\n",
              "        \n",
              "  <svg xmlns=\"http://www.w3.org/2000/svg\" height=\"24px\"viewBox=\"0 0 24 24\"\n",
              "       width=\"24px\">\n",
              "    <path d=\"M0 0h24v24H0V0z\" fill=\"none\"/>\n",
              "    <path d=\"M18.56 5.44l.94 2.06.94-2.06 2.06-.94-2.06-.94-.94-2.06-.94 2.06-2.06.94zm-11 1L8.5 8.5l.94-2.06 2.06-.94-2.06-.94L8.5 2.5l-.94 2.06-2.06.94zm10 10l.94 2.06.94-2.06 2.06-.94-2.06-.94-.94-2.06-.94 2.06-2.06.94z\"/><path d=\"M17.41 7.96l-1.37-1.37c-.4-.4-.92-.59-1.43-.59-.52 0-1.04.2-1.43.59L10.3 9.45l-7.72 7.72c-.78.78-.78 2.05 0 2.83L4 21.41c.39.39.9.59 1.41.59.51 0 1.02-.2 1.41-.59l7.78-7.78 2.81-2.81c.8-.78.8-2.07 0-2.86zM5.41 20L4 18.59l7.72-7.72 1.47 1.35L5.41 20z\"/>\n",
              "  </svg>\n",
              "      </button>\n",
              "      \n",
              "  <style>\n",
              "    .colab-df-container {\n",
              "      display:flex;\n",
              "      flex-wrap:wrap;\n",
              "      gap: 12px;\n",
              "    }\n",
              "\n",
              "    .colab-df-convert {\n",
              "      background-color: #E8F0FE;\n",
              "      border: none;\n",
              "      border-radius: 50%;\n",
              "      cursor: pointer;\n",
              "      display: none;\n",
              "      fill: #1967D2;\n",
              "      height: 32px;\n",
              "      padding: 0 0 0 0;\n",
              "      width: 32px;\n",
              "    }\n",
              "\n",
              "    .colab-df-convert:hover {\n",
              "      background-color: #E2EBFA;\n",
              "      box-shadow: 0px 1px 2px rgba(60, 64, 67, 0.3), 0px 1px 3px 1px rgba(60, 64, 67, 0.15);\n",
              "      fill: #174EA6;\n",
              "    }\n",
              "\n",
              "    [theme=dark] .colab-df-convert {\n",
              "      background-color: #3B4455;\n",
              "      fill: #D2E3FC;\n",
              "    }\n",
              "\n",
              "    [theme=dark] .colab-df-convert:hover {\n",
              "      background-color: #434B5C;\n",
              "      box-shadow: 0px 1px 3px 1px rgba(0, 0, 0, 0.15);\n",
              "      filter: drop-shadow(0px 1px 2px rgba(0, 0, 0, 0.3));\n",
              "      fill: #FFFFFF;\n",
              "    }\n",
              "  </style>\n",
              "\n",
              "      <script>\n",
              "        const buttonEl =\n",
              "          document.querySelector('#df-c82d01b1-2465-4cf7-aa65-80576d03e306 button.colab-df-convert');\n",
              "        buttonEl.style.display =\n",
              "          google.colab.kernel.accessAllowed ? 'block' : 'none';\n",
              "\n",
              "        async function convertToInteractive(key) {\n",
              "          const element = document.querySelector('#df-c82d01b1-2465-4cf7-aa65-80576d03e306');\n",
              "          const dataTable =\n",
              "            await google.colab.kernel.invokeFunction('convertToInteractive',\n",
              "                                                     [key], {});\n",
              "          if (!dataTable) return;\n",
              "\n",
              "          const docLinkHtml = 'Like what you see? Visit the ' +\n",
              "            '<a target=\"_blank\" href=https://colab.research.google.com/notebooks/data_table.ipynb>data table notebook</a>'\n",
              "            + ' to learn more about interactive tables.';\n",
              "          element.innerHTML = '';\n",
              "          dataTable['output_type'] = 'display_data';\n",
              "          await google.colab.output.renderOutput(dataTable, element);\n",
              "          const docLink = document.createElement('div');\n",
              "          docLink.innerHTML = docLinkHtml;\n",
              "          element.appendChild(docLink);\n",
              "        }\n",
              "      </script>\n",
              "    </div>\n",
              "  </div>\n",
              "  "
            ]
          },
          "metadata": {},
          "execution_count": 25
        }
      ]
    },
    {
      "cell_type": "code",
      "source": [
        "df.to_csv('SSD_Laptop Price')"
      ],
      "metadata": {
        "id": "1ZZjdtiPmU_j"
      },
      "execution_count": 31,
      "outputs": []
    },
    {
      "cell_type": "code",
      "source": [
        " "
      ],
      "metadata": {
        "id": "navqYynQg5Yy"
      },
      "execution_count": null,
      "outputs": []
    }
  ]
}